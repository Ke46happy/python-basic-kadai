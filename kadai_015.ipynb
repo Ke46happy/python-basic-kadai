{
  "nbformat": 4,
  "nbformat_minor": 0,
  "metadata": {
    "colab": {
      "provenance": []
    },
    "kernelspec": {
      "name": "python3",
      "display_name": "Python 3"
    },
    "language_info": {
      "name": "python"
    }
  },
  "cells": [
    {
      "cell_type": "code",
      "execution_count": null,
      "metadata": {
        "colab": {
          "base_uri": "https://localhost:8080/"
        },
        "id": "Af0fSYAo-2t_",
        "outputId": "343e10e2-61b1-4e1b-e898-2c4791cd7525"
      },
      "outputs": [
        {
          "output_type": "stream",
          "name": "stdout",
          "text": [
            "Name: tom,Age: 25\n"
          ]
        }
      ],
      "source": [
        "class Human:\n",
        "    def __init__(self, name, age):\n",
        "        self.name = name\n",
        "        self.age = age\n",
        "\n",
        "    def printinfo(self):\n",
        "        print(f\"Name: {self.name},Age: {self.age}\")\n",
        "\n",
        "person = Human(name=\"tom\", age=25)\n",
        "\n",
        "person.printinfo()\n",
        "\n"
      ]
    }
  ]
}