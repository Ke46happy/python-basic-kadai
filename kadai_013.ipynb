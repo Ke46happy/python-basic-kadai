{
  "nbformat": 4,
  "nbformat_minor": 0,
  "metadata": {
    "colab": {
      "provenance": []
    },
    "kernelspec": {
      "name": "python3",
      "display_name": "Python 3"
    },
    "language_info": {
      "name": "python"
    }
  },
  "cells": [
    {
      "cell_type": "code",
      "source": [
        "# calculate計算する\n",
        "def calculate_price(price,tax_rate=0.1):\n",
        "    total_price = price * (1 + tax_rate)\n",
        "    return total_price\n",
        "\n",
        "# 例　1000円\n",
        "price = 1000\n",
        "tatal_price_with_tax = total_price_with_tax = calculate_price(price)\n",
        "\n",
        "# 第1引数に商品の金額\n",
        "print(f\"商品の金額: {price}円\")\n",
        "# 第2引数に消費税（10%）\n",
        "print(f\"消費税込みの金額:{total_price_with_tax}円\")"
      ],
      "metadata": {
        "colab": {
          "base_uri": "https://localhost:8080/"
        },
        "id": "1Im3yMHlaWn7",
        "outputId": "3ef4f78b-699b-4ffd-efd7-991dc38192ab"
      },
      "execution_count": null,
      "outputs": [
        {
          "output_type": "stream",
          "name": "stdout",
          "text": [
            "商品の金額: 1000円\n",
            "消費税込みの金額:1100.0円\n"
          ]
        }
      ]
    }
  ]
}