{
  "nbformat": 4,
  "nbformat_minor": 0,
  "metadata": {
    "colab": {
      "provenance": [],
      "toc_visible": true
    },
    "kernelspec": {
      "name": "python3",
      "display_name": "Python 3"
    },
    "language_info": {
      "name": "python"
    }
  },
  "cells": [
    {
      "cell_type": "code",
      "execution_count": null,
      "metadata": {
        "colab": {
          "base_uri": "https://localhost:8080/"
        },
        "id": "qYLC9jMu4Piq",
        "outputId": "cb5b1acd-e059-48f3-e814-25893b9c27e2"
      },
      "outputs": [
        {
          "output_type": "stream",
          "name": "stdout",
          "text": [
            "水曜日は晴れです\n"
          ]
        }
      ],
      "source": [
        "list =[\n",
        "\"月曜日は晴れです\",\n",
        "\"火曜日は雨です\",\n",
        "\"水曜日は晴れです\",\n",
        "\"木曜日は晴れです\",\n",
        "\"金曜日は曇りです\",\n",
        "\"土曜日は曇りのち雨です\",\n",
        "\"日曜日は雷雨です\"]\n",
        "\n",
        "print(list [2])"
      ]
    },
    {
      "cell_type": "code",
      "source": [
        "dictionary = {\n",
        "\"mon\":\"晴れ\",\n",
        "\"tue\":\"雨\",\n",
        "\"wed\":\"晴れ\",\n",
        "\"thu\":\"晴れ\",\n",
        "\"fri\":\"曇り\",\n",
        "\"sat\":\"曇りのち雨\",\n",
        "\"sun\":\"雷雨\"}\n",
        "\n",
        "# キー「wed」として「晴れ」を追加する\n",
        "print(dictionary[\"wed\"])"
      ],
      "metadata": {
        "colab": {
          "base_uri": "https://localhost:8080/"
        },
        "id": "Ck1NZvG16HDH",
        "outputId": "0c23a4f9-73b2-4841-9163-b42783f6b0cf"
      },
      "execution_count": null,
      "outputs": [
        {
          "output_type": "stream",
          "name": "stdout",
          "text": [
            "晴れ\n"
          ]
        }
      ]
    }
  ]
}