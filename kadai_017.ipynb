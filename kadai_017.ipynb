{
  "nbformat": 4,
  "nbformat_minor": 0,
  "metadata": {
    "colab": {
      "provenance": []
    },
    "kernelspec": {
      "name": "python3",
      "display_name": "Python 3"
    },
    "language_info": {
      "name": "python"
    }
  },
  "cells": [
    {
      "cell_type": "code",
      "execution_count": null,
      "metadata": {
        "colab": {
          "base_uri": "https://localhost:8080/"
        },
        "id": "49BIg_tsiseh",
        "outputId": "652ff4fb-c17b-4f80-b146-057e95f731c4"
      },
      "outputs": [
        {
          "output_type": "stream",
          "name": "stdout",
          "text": [
            "emaさんは大人ではありません。\n",
            "minaさんは大人です\n",
            "kaitoさんは大人ではありません。\n"
          ]
        }
      ],
      "source": [
        "class Human:\n",
        "    def __init__(self, name, age):\n",
        "        self.name = name\n",
        "        self.age = age\n",
        "    def check_adult(self):\n",
        "        if self.age >= 20:\n",
        "           print(f\"{self.name}さんは大人です\")\n",
        "        else:\n",
        "           print(f\"{self.name}さんは大人ではありません。\")\n",
        "\n",
        "people = [\n",
        "    Human(\"ema\", 4),\n",
        "    Human(\"mina\", 39),\n",
        "    Human(\"kaito\", 10)\n",
        "    ]\n",
        "\n",
        "for person in people:\n",
        "      person.check_adult()"
      ]
    }
  ]
}