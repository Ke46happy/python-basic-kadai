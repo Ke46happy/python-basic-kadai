{
  "nbformat": 4,
  "nbformat_minor": 0,
  "metadata": {
    "colab": {
      "provenance": []
    },
    "kernelspec": {
      "name": "python3",
      "display_name": "Python 3"
    },
    "language_info": {
      "name": "python"
    }
  },
  "cells": [
    {
      "cell_type": "code",
      "execution_count": null,
      "metadata": {
        "colab": {
          "base_uri": "https://localhost:8080/"
        },
        "id": "y_b-DHjMN8Kc",
        "outputId": "c30ffee7-9034-4e0b-a1de-9b8574594037"
      },
      "outputs": [
        {
          "output_type": "stream",
          "name": "stdout",
          "text": [
            "水\n",
            "金\n",
            "地\n",
            "火\n",
            "木\n",
            "土\n",
            "天\n",
            "海\n",
            "冥\n",
            "水\n",
            "金\n",
            "地\n",
            "火\n",
            "木\n",
            "土\n",
            "天\n",
            "海\n",
            "冥\n"
          ]
        }
      ],
      "source": [
        "list = [\"水\", \"金\", \"地\", \"火\", \"木\", \"土\", \"天\", \"海\", \"冥\"]\n",
        "for i in list:\n",
        "     print(i)\n",
        "for i in list:\n",
        "     print(i)\n"
      ]
    },
    {
      "cell_type": "code",
      "source": [
        "list = [\"水\", \"金\", \"地\", \"火\", \"木\", \"土\", \"天\", \"海\", \"冥\"]\n",
        "index = 0\n",
        "count = 0\n",
        "\n",
        "while count < len(list) * 2:\n",
        "    print(list[index])\n",
        "    index += 1\n",
        "    count += 1\n",
        "\n",
        "    if index == len(list):\n",
        "        index = 0\n"
      ],
      "metadata": {
        "colab": {
          "base_uri": "https://localhost:8080/"
        },
        "id": "bI5LlR_OQ2Cc",
        "outputId": "5c718b46-b8ea-46c2-8dcc-af4a3fa28b54"
      },
      "execution_count": null,
      "outputs": [
        {
          "output_type": "stream",
          "name": "stdout",
          "text": [
            "水\n",
            "金\n",
            "地\n",
            "火\n",
            "木\n",
            "土\n",
            "天\n",
            "海\n",
            "冥\n",
            "水\n",
            "金\n",
            "地\n",
            "火\n",
            "木\n",
            "土\n",
            "天\n",
            "海\n",
            "冥\n"
          ]
        }
      ]
    }
  ]
}